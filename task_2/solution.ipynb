{
 "cells": [
  {
   "cell_type": "code",
   "execution_count": 1,
   "metadata": {},
   "outputs": [],
   "source": [
    "import numpy as np\n",
    "\n",
    "def generate_random_data(mean, variance, num_samples):\n",
    "    return np.random.randint(max(mean - variance, 0), min(mean + variance + 1, 90), num_samples)"
   ]
  },
  {
   "cell_type": "code",
   "execution_count": 2,
   "metadata": {},
   "outputs": [],
   "source": [
    "def calculate_department_mean(threat_scores):\n",
    "    return np.mean(threat_scores)\n",
    "\n",
    "def calculate_aggregated_threat_score(department_scores, importance_weights):\n",
    "    # Calculate weighted mean of department scores\n",
    "    weighted_sum = sum(score * weight for score, weight in zip(department_scores, importance_weights))\n",
    "    total_weight = sum(importance_weights)\n",
    "    return min(max(weighted_sum / total_weight, 0), 90) "
   ]
  }
 ],
 "metadata": {
  "kernelspec": {
   "display_name": ".venv",
   "language": "python",
   "name": "python3"
  },
  "language_info": {
   "codemirror_mode": {
    "name": "ipython",
    "version": 3
   },
   "file_extension": ".py",
   "mimetype": "text/x-python",
   "name": "python",
   "nbconvert_exporter": "python",
   "pygments_lexer": "ipython3",
   "version": "3.11.2"
  }
 },
 "nbformat": 4,
 "nbformat_minor": 2
}
